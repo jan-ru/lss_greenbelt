{
 "cells": [
  {
   "cell_type": "markdown",
   "metadata": {},
   "source": [
    "# \n",
    "\n",
    "# Studiebelasting"
   ],
   "id": "d85f17c9-98e4-45d7-85da-40e2fd43da74"
  },
  {
   "cell_type": "raw",
   "metadata": {
    "raw_mimetype": "tex"
   },
   "source": [
    "\\newpage"
   ],
   "id": "c75c74eb-39de-4b2a-a51b-a64b1e825139"
  },
  {
   "cell_type": "markdown",
   "metadata": {},
   "source": [
    "Tabel met in te leveren deelproducten per sprint en ook uren per fase.\n",
    "\n",
    "De totale studiebelasting van deze Yellow Belt e-learing is circa 16 uren. Inclusief proefexamen en examen is de studiebelasting circa 20 uren (bron: skoledo). In de tabel hieronder staat de inhoud van de zes modules en de studiebelasting per module.\n",
    "\n",
    "| module                 | onderwerpen                            | studiebelasting |\n",
    "|---------------------|------------------------------------|--------------:|\n",
    "| Wat is Lean Six Sigma? | Wat is Lean?                           |         2,5 uur |\n",
    "|                        | Wat is Six Sigma?                      |                 |\n",
    "|                        | Wat is Lean Six Sigma?                 |                 |\n",
    "|                        |                                        |                 |\n",
    "| Define-fase            | Selecteren verbeterproject             |         2,5 uur |\n",
    "|                        | Het proces definiëren                  |                 |\n",
    "|                        | Wat wil je bereiken?                   |                 |\n",
    "|                        |                                        |                 |\n",
    "| Measure-fase           | Waarom welke data verzamelen?          |         4,0 uur |\n",
    "|                        | Hoe data verzamelen?                   |                 |\n",
    "|                        | Zorg voor goede data.                  |                 |\n",
    "|                        | Lean Six Sigma maatstaven.             |                 |\n",
    "|                        |                                        |                 |\n",
    "| Analyse-fase           | Wat zijn de prestaties van het proces? |         3,5 uur |\n",
    "|                        | Wat zijn de invloedsfactoren?          |                 |\n",
    "|                        | Toetsen invloedsfactoren: is het       |                 |\n",
    "|                        | echt een knelpunt?                     |                 |\n",
    "|                        |                                        |                 |\n",
    "| Improve-fase           | Genereer oplossingen                   |         2,0 uur |\n",
    "|                        | Selecteer oplossingen                  |                 |\n",
    "|                        | Implementeer oplossingen               |                 |\n",
    "|                        | Lean6Sigma improve-tools               |                 |\n",
    "|                        |                                        |                 |\n",
    "| Control-fase           | Het proces borgen                      |         2,5 uur |\n",
    "|                        | In control zijn en blijven             |                 |\n",
    "|                        | Verankering in het DNA                 |                 |\n",
    "|                        | Project afsluiten                      |                 |\n",
    "|                        |                                        |                 |\n",
    "| Subtotaal (circa)      |                                        |        16,0 uur |\n",
    "| Proef examen           |                                        |         2,0 uur |\n",
    "| Examen                 |                                        |         2,0 uur |\n",
    "| Totaal (circa)         |                                        |        20,0 uur |\n",
    "\n",
    "Studiebelasting\n",
    "\n",
    "| module              | onderwerpen          | studiebelasting |\n",
    "|---------------------|----------------------|----------------:|\n",
    "| Minitab introductie | Minitab: introductie |         4,0 uur |\n",
    "|                     | Data verzamelen      |                 |\n",
    "|                     | Prestaties weergeven |                 |\n",
    "|                     | Prestaties toetsen   |                 |\n",
    "\n",
    "| module              | onderwerpen                  | studiebelasting |\n",
    "|---------------------|------------------------------|----------------:|\n",
    "| Minitab introductie | Wat is kwaliteit?            |         1,5 uur |\n",
    "|                     | Wat is kwaliteitsmanagement? |                 |\n",
    "|                     | Kwaliteitsmanagementsysteem  |                 |\n",
    "|                     | Kwaliteitsgoeroes            |                 |"
   ],
   "id": "d5b0ab2c-218c-4b47-a6f9-825f73712451"
  }
 ],
 "nbformat": 4,
 "nbformat_minor": 5,
 "metadata": {}
}
