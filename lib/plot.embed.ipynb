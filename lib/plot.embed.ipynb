{
 "cells": [
  {
   "cell_type": "markdown",
   "metadata": {},
   "source": [
    "#"
   ],
   "id": "25c2d801-c713-4929-9ffa-4bfe0e879d89"
  },
  {
   "cell_type": "code",
   "execution_count": 1,
   "metadata": {},
   "outputs": [],
   "source": [
    "#| label: fig-lineplot\n",
    "#| fig-cap: A line plot showing progress on the e-learnings\n",
    "import matplotlib.pyplot as plt\n",
    "\n",
    "# Data for plotting\n",
    "weeks_first_line = [0,10]  # Week 1 through 10\n",
    "hours_first_line = [0,25]  # 0 to 25 hours, linear increase\n",
    "\n",
    "weeks_second_line = [0,9]  # Week 1 through 9\n",
    "hours_second_line = [0,25]  # 0 to 25 hours, linear increase ending at week 9\n",
    "\n",
    "# Create a line plot\n",
    "plt.figure(figsize=(10, 5))  # Set the figure size\n",
    "plt.plot(weeks_first_line, hours_first_line, marker='o', linestyle='-', color='b', label=\"huidige doorlooptijd\")  # First line\n",
    "plt.plot(weeks_second_line, hours_second_line, marker='o', linestyle='-', color='r', label=\"gewenste doorlooptijd\")  # Second line\n",
    "\n",
    "# Setting the labels for the axes\n",
    "plt.xlabel('Doorlooptijd (weken)')\n",
    "plt.ylabel('Studiebelasting (uren/blok)')\n",
    "\n",
    "# Setting the range for the axes\n",
    "plt.xlim(0, 10)  # X-axis from week 1 to 10\n",
    "plt.ylim(0, 25)  # Y-axis from 0 to 25 hours\n",
    "plt.xticks(range(1, 11))  # X-axis ticks at every week from 1 to 10\n",
    "\n",
    "# Adding a title\n",
    "plt.title('Doorlooptijd e-learnings')\n",
    "\n",
    "# Adding an arrow with a label\n",
    "plt.annotate(\n",
    "    'doelstelling:\\n10% verlagen',  # text to display\n",
    "    xy=(8, 22.5),  # point to annotate (arrow head)\n",
    "    xytext=(9, 22.5),  # start point of the text (arrow tail)\n",
    "    arrowprops=dict(arrowstyle='->', lw=1.5, color='green'),  # style of the arrow\n",
    "    ha='left',  # horizontal alignment of the text\n",
    "    va='center',  # vertical alignment\n",
    "    # rotation=45  # text angle\n",
    ")\n",
    "\n",
    "# Display the grid and legend\n",
    "plt.grid(True)\n",
    "plt.legend()\n",
    "\n",
    "# Show the plot\n",
    "plt.show()"
   ],
   "id": "cell-fig-lineplot"
  }
 ],
 "nbformat": 4,
 "nbformat_minor": 5,
 "metadata": {}
}
