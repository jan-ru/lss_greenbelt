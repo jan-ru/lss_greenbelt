{
 "cells": [
  {
   "cell_type": "markdown",
   "metadata": {},
   "source": [
    "# Analyse-fase\n",
    "\n",
    "aan bod komen:\n",
    "\n",
    "## Proces Selectie\n",
    "\n",
    "### Analyse technieken\n",
    "\n",
    "Benoemen dat er momenteel meerdere interpretaties zijn:  \n",
    "- De e-learnings moeten af voor het einde van het blok - De e-learnings moeten af voor het examen - De e-learnings …\n",
    "\n",
    "### Prestaties van het proces\n",
    "\n",
    "### Invloedsfactoren"
   ],
   "id": "77dbfc25-31e4-4cd8-b5f8-d18c017410af"
  }
 ],
 "nbformat": 4,
 "nbformat_minor": 5,
 "metadata": {}
}
