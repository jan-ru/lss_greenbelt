{
 "cells": [
  {
   "cell_type": "markdown",
   "metadata": {},
   "source": [
    "# \n",
    "\n",
    "# Studiebelasting"
   ],
   "id": "5644f271-9ffa-4489-afe6-ab2fca64c1b3"
  },
  {
   "cell_type": "raw",
   "metadata": {
    "raw_mimetype": "tex"
   },
   "source": [
    "\\newpage"
   ],
   "id": "8ed06f87-7cc1-4309-931a-0d4cb39afb84"
  },
  {
   "cell_type": "markdown",
   "metadata": {},
   "source": [
    "Tabel met in te leveren deelproducten per sprint en ook uren per fase.\n",
    "\n",
    "De totale studiebelasting van deze Yellow Belt e-learing is circa 16 uren. Inclusief proefexamen en examen is de studiebelasting circa 20 uren (bron: skoledo). In de tabel hieronder staat de inhoud van de zes modules en de studiebelasting per module.\n",
    "\n",
    "| module                 | onderwerpen                            | studiebelasting |\n",
    "|---------------------|------------------------------------|--------------:|\n",
    "| Wat is Lean Six Sigma? | Wat is Lean?                           |         2,5 uur |\n",
    "|                        | Wat is Six Sigma?                      |                 |\n",
    "|                        | Wat is Lean Six Sigma?                 |                 |\n",
    "|                        |                                        |                 |\n",
    "| Define-fase            | Selecteren verbeterproject             |         2,5 uur |\n",
    "|                        | Het proces definiëren                  |                 |\n",
    "|                        | Wat wil je bereiken?                   |                 |\n",
    "|                        |                                        |                 |\n",
    "| Measure-fase           | Waarom welke data verzamelen?          |         4,0 uur |\n",
    "|                        | Hoe data verzamelen?                   |                 |\n",
    "|                        | Zorg voor goede data.                  |                 |\n",
    "|                        | Lean Six Sigma maatstaven.             |                 |\n",
    "|                        |                                        |                 |\n",
    "| Analyse-fase           | Wat zijn de prestaties van het proces? |         3,5 uur |\n",
    "|                        | Wat zijn de invloedsfactoren?          |                 |\n",
    "|                        | Toetsen invloedsfactoren: is het       |                 |\n",
    "|                        | echt een knelpunt?                     |                 |\n",
    "|                        |                                        |                 |\n",
    "| Improve-fase           | Genereer oplossingen                   |         2,0 uur |\n",
    "|                        | Selecteer oplossingen                  |                 |\n",
    "|                        | Implementeer oplossingen               |                 |\n",
    "|                        | Lean6Sigma improve-tools               |                 |\n",
    "|                        |                                        |                 |\n",
    "| Control-fase           | Het proces borgen                      |         2,5 uur |\n",
    "|                        | In control zijn en blijven             |                 |\n",
    "|                        | Verankering in het DNA                 |                 |\n",
    "|                        | Project afsluiten                      |                 |\n",
    "|                        |                                        |                 |\n",
    "| Subtotaal (circa)      |                                        |        16,0 uur |\n",
    "| Proef examen           |                                        |         2,0 uur |\n",
    "| Examen                 |                                        |         2,0 uur |\n",
    "| Totaal (circa)         |                                        |        20,0 uur |\n",
    "\n",
    "Studiebelasting\n",
    "\n",
    "| module              | onderwerpen          | studiebelasting |\n",
    "|---------------------|----------------------|----------------:|\n",
    "| Minitab introductie | Minitab: introductie |         4,0 uur |\n",
    "|                     | Data verzamelen      |                 |\n",
    "|                     | Prestaties weergeven |                 |\n",
    "|                     | Prestaties toetsen   |                 |\n",
    "\n",
    "| module              | onderwerpen                  | studiebelasting |\n",
    "|---------------------|------------------------------|----------------:|\n",
    "| Minitab introductie | Wat is kwaliteit?            |         1,5 uur |\n",
    "|                     | Wat is kwaliteitsmanagement? |                 |\n",
    "|                     | Kwaliteitsmanagementsysteem  |                 |\n",
    "|                     | Kwaliteitsgoeroes            |                 |"
   ],
   "id": "61d8c9d4-97ca-49af-bd09-be3603c582d4"
  }
 ],
 "nbformat": 4,
 "nbformat_minor": 5,
 "metadata": {}
}
