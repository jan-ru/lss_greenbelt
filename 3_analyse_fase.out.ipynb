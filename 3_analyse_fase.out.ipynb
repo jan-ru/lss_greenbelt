{
 "cells": [
  {
   "cell_type": "markdown",
   "metadata": {},
   "source": [
    "# Analyse-fase\n",
    "\n",
    "aan bod komen:\n",
    "\n",
    "## Analyse technieken\n",
    "\n",
    "Benoemen dat er momenteel meerdere interpretaties zijn:  \n",
    "- De e-learnings moeten af voor het einde van het blok - De e-learnings moeten af voor het examen - De e-learnings …\n",
    "\n",
    "## Prestaties van het proces\n",
    "\n",
    "## Inventarisatie invloedsfactoren\n",
    "\n",
    "Visgraat\n",
    "\n",
    "## Meeste Impact\n",
    "\n",
    "-   aanwezigheid\n",
    "-   e-learning op tijd maken\n",
    "-   groepsgenoten\n",
    "-   vakdocent\n",
    "-   procesdocent"
   ],
   "id": "fb65df92-227f-431f-93a8-ef9379ff5ee9"
  }
 ],
 "nbformat": 4,
 "nbformat_minor": 5,
 "metadata": {}
}
