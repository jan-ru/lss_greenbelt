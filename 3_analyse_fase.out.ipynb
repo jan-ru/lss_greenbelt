{
 "cells": [
  {
   "cell_type": "markdown",
   "metadata": {},
   "source": [
    "# Analyse-fase\n",
    "\n",
    "aan bod komen:\n",
    "\n",
    "## Proces Selectie\n",
    "\n",
    "### Analyse technieken\n",
    "\n",
    "Benoemen dat er momenteel meerdere interpretaties zijn:  \n",
    "- De e-learnings moeten af voor het einde van het blok - De e-learnings moeten af voor het examen - De e-learnings …\n",
    "\n",
    "### Prestaties van het proces\n",
    "\n",
    "### Invloedsfactoren"
   ],
   "id": "5673abe3-afa4-4759-a53d-adc96bb0fcb7"
  }
 ],
 "nbformat": 4,
 "nbformat_minor": 5,
 "metadata": {}
}
