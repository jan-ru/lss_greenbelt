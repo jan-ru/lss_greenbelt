{
 "cells": [
  {
   "cell_type": "markdown",
   "metadata": {},
   "source": [
    "# Measure-fase\n",
    "\n",
    "In de measure fase … aan bod komen:\n",
    "\n",
    "## Gegevens - verzamelen\n",
    "\n",
    "## Meetplan\n",
    "\n",
    "| Wat meten we | Waarom meten we | Hoe verzamelen we de gegevens | Wanneer verzamelen | Waar in het proces | Wie verzamelt ze |\n",
    "|---------|-----------|-------------------|------------|------------|-----------|\n",
    "| a            |                 |                               |                    |                    |                  |\n",
    "| b            |                 |                               |                    |                    |                  |\n",
    "| c            |                 |                               |                    |                    |                  |\n",
    "| d            |                 |                               |                    |                    |                  |\n",
    "\n",
    "## Gegevens - betrouwbaarheid\n",
    "\n",
    "De gegevens v.w.b. de voortgang van de e-learnings is afkomstig van Skoledo. De gegevens worden wekelijks samengesteld en opgestuurd. Er worden door de ontvanger een paar checks gedaan: - Zijn de data oplopend - Is de voortgang deze week niet lager dan vorige week\n",
    "\n",
    "## Gegevens - verwerken"
   ],
   "id": "19c31d75-9563-41ba-9901-df15f6020c47"
  }
 ],
 "nbformat": 4,
 "nbformat_minor": 5,
 "metadata": {}
}
